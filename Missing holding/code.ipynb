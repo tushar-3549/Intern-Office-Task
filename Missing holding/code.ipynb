{
  "metadata": {
    "kernelspec": {
      "name": "python",
      "display_name": "Python (Pyodide)",
      "language": "python"
    },
    "language_info": {
      "codemirror_mode": {
        "name": "python",
        "version": 3
      },
      "file_extension": ".py",
      "mimetype": "text/x-python",
      "name": "python",
      "nbconvert_exporter": "python",
      "pygments_lexer": "ipython3",
      "version": "3.8"
    }
  },
  "nbformat_minor": 4,
  "nbformat": 4,
  "cells": [
    {
      "cell_type": "markdown",
      "source": "## Dataset Load",
      "metadata": {}
    },
    {
      "cell_type": "code",
      "source": "import pandas as pd",
      "metadata": {
        "trusted": true
      },
      "outputs": [],
      "execution_count": 32
    },
    {
      "cell_type": "code",
      "source": "df = pd.read_csv('places.csv')",
      "metadata": {
        "trusted": true
      },
      "outputs": [],
      "execution_count": 33
    },
    {
      "cell_type": "code",
      "source": "df.head()",
      "metadata": {
        "trusted": true
      },
      "outputs": [
        {
          "execution_count": 34,
          "output_type": "execute_result",
          "data": {
            "text/plain": "  holding_number road_name_number   super_sub_area    sub_area    area   city\n0            463    Shamim Sarani  West Shewrapara  Shewrapara  Mirpur  Dhaka\n1            477    Shamim Sarani  West Shewrapara  Shewrapara  Mirpur  Dhaka\n2            477    Shamim Sarani  West Shewrapara  Shewrapara  Mirpur  Dhaka\n3          474/2    Shamim Sarani  West Shewrapara  Shewrapara  Mirpur  Dhaka\n4            475    Shamim Sarani  West Shewrapara  Shewrapara  Mirpur  Dhaka",
            "text/html": "<div>\n<style scoped>\n    .dataframe tbody tr th:only-of-type {\n        vertical-align: middle;\n    }\n\n    .dataframe tbody tr th {\n        vertical-align: top;\n    }\n\n    .dataframe thead th {\n        text-align: right;\n    }\n</style>\n<table border=\"1\" class=\"dataframe\">\n  <thead>\n    <tr style=\"text-align: right;\">\n      <th></th>\n      <th>holding_number</th>\n      <th>road_name_number</th>\n      <th>super_sub_area</th>\n      <th>sub_area</th>\n      <th>area</th>\n      <th>city</th>\n    </tr>\n  </thead>\n  <tbody>\n    <tr>\n      <th>0</th>\n      <td>463</td>\n      <td>Shamim Sarani</td>\n      <td>West Shewrapara</td>\n      <td>Shewrapara</td>\n      <td>Mirpur</td>\n      <td>Dhaka</td>\n    </tr>\n    <tr>\n      <th>1</th>\n      <td>477</td>\n      <td>Shamim Sarani</td>\n      <td>West Shewrapara</td>\n      <td>Shewrapara</td>\n      <td>Mirpur</td>\n      <td>Dhaka</td>\n    </tr>\n    <tr>\n      <th>2</th>\n      <td>477</td>\n      <td>Shamim Sarani</td>\n      <td>West Shewrapara</td>\n      <td>Shewrapara</td>\n      <td>Mirpur</td>\n      <td>Dhaka</td>\n    </tr>\n    <tr>\n      <th>3</th>\n      <td>474/2</td>\n      <td>Shamim Sarani</td>\n      <td>West Shewrapara</td>\n      <td>Shewrapara</td>\n      <td>Mirpur</td>\n      <td>Dhaka</td>\n    </tr>\n    <tr>\n      <th>4</th>\n      <td>475</td>\n      <td>Shamim Sarani</td>\n      <td>West Shewrapara</td>\n      <td>Shewrapara</td>\n      <td>Mirpur</td>\n      <td>Dhaka</td>\n    </tr>\n  </tbody>\n</table>\n</div>"
          },
          "metadata": {}
        }
      ],
      "execution_count": 34
    },
    {
      "cell_type": "code",
      "source": "df.head(40)",
      "metadata": {
        "trusted": true
      },
      "outputs": [
        {
          "execution_count": 35,
          "output_type": "execute_result",
          "data": {
            "text/plain": "   holding_number road_name_number                 super_sub_area    sub_area  \\\n0             463    Shamim Sarani                West Shewrapara  Shewrapara   \n1             477    Shamim Sarani                West Shewrapara  Shewrapara   \n2             477    Shamim Sarani                West Shewrapara  Shewrapara   \n3           474/2    Shamim Sarani                West Shewrapara  Shewrapara   \n4             475    Shamim Sarani                West Shewrapara  Shewrapara   \n5             476    Shamim Sarani                West Shewrapara  Shewrapara   \n6           477/2    Shamim Sarani                West Shewrapara  Shewrapara   \n7             476    Shamim Sarani                West Shewrapara  Shewrapara   \n8           469/1    Shamim Sarani                West Shewrapara  Shewrapara   \n9           476/2    Shamim Sarani                West Shewrapara  Shewrapara   \n10          463/A    Shamim Sarani                West Shewrapara  Shewrapara   \n11            476    Shamim Sarani                West Shewrapara  Shewrapara   \n12            474    Shamim Sarani                West Shewrapara  Shewrapara   \n13            473    Shamim Sarani                West Shewrapara  Shewrapara   \n14          473/1    Shamim Sarani                West Shewrapara  Shewrapara   \n15        463/1/1    Shamim Sarani                West Shewrapara  Shewrapara   \n16          463/1    Shamim Sarani                West Shewrapara  Shewrapara   \n17          469/1    Shamim Sarani                West Shewrapara  Shewrapara   \n18        463/1/1    Shamim Sarani                West Shewrapara  Shewrapara   \n19          470/2              NaN                West Shewrapara  Shewrapara   \n20            476    Shamim Sarani                West Shewrapara  Shewrapara   \n21          473/E              NaN                West Shewrapara  Shewrapara   \n22          471/A    Shamim Sarani                West Shewrapara  Shewrapara   \n23          473/D              NaN                West Shewrapara  Shewrapara   \n24            477    Shamim Sarani                West Shewrapara  Shewrapara   \n25          477/2    Shamim Sarani                West Shewrapara  Shewrapara   \n26          473/A    Shamim Sarani                West Shewrapara  Shewrapara   \n27          477/2    Shamim Sarani                West Shewrapara  Shewrapara   \n28          473/A              NaN                West Shewrapara  Shewrapara   \n29          476/2    Shamim Sarani                West Shewrapara  Shewrapara   \n30          471/A    Shamim Sarani                West Shewrapara  Shewrapara   \n31            476    Shamim Sarani                West Shewrapara  Shewrapara   \n32          476/2    Shamim Sarani                West Shewrapara  Shewrapara   \n33          460/3    Shamim Sarani                West Shewrapara  Shewrapara   \n34            342              NaN                West Shewrapara  Shewrapara   \n35         110/13              NaN                West Shewrapara  Shewrapara   \n36          113/6              NaN                West Shewrapara  Shewrapara   \n37         118/12              NaN  Ananda Bazar, West Shewrapara  Shewrapara   \n38          118/1              NaN                West Shewrapara  Shewrapara   \n39            694              NaN                West Shewrapara  Shewrapara   \n\n      area   city  \n0   Mirpur  Dhaka  \n1   Mirpur  Dhaka  \n2   Mirpur  Dhaka  \n3   Mirpur  Dhaka  \n4   Mirpur  Dhaka  \n5   Mirpur  Dhaka  \n6   Mirpur  Dhaka  \n7   Mirpur  Dhaka  \n8   Mirpur  Dhaka  \n9   Mirpur  Dhaka  \n10  Mirpur  Dhaka  \n11  Mirpur  Dhaka  \n12  Mirpur  Dhaka  \n13  Mirpur  Dhaka  \n14  Mirpur  Dhaka  \n15  Mirpur  Dhaka  \n16  Mirpur  Dhaka  \n17  Mirpur  Dhaka  \n18  Mirpur  Dhaka  \n19  Mirpur  Dhaka  \n20  Mirpur  Dhaka  \n21  Mirpur  Dhaka  \n22  Mirpur  Dhaka  \n23  Mirpur  Dhaka  \n24  Mirpur  Dhaka  \n25  Mirpur  Dhaka  \n26  Mirpur  Dhaka  \n27  Mirpur  Dhaka  \n28  Mirpur  Dhaka  \n29  Mirpur  Dhaka  \n30  Mirpur  Dhaka  \n31  Mirpur  Dhaka  \n32  Mirpur  Dhaka  \n33  Mirpur  Dhaka  \n34  Mirpur  Dhaka  \n35  Mirpur  Dhaka  \n36  Mirpur  Dhaka  \n37  Mirpur  Dhaka  \n38  Mirpur  Dhaka  \n39  Mirpur  Dhaka  ",
            "text/html": "<div>\n<style scoped>\n    .dataframe tbody tr th:only-of-type {\n        vertical-align: middle;\n    }\n\n    .dataframe tbody tr th {\n        vertical-align: top;\n    }\n\n    .dataframe thead th {\n        text-align: right;\n    }\n</style>\n<table border=\"1\" class=\"dataframe\">\n  <thead>\n    <tr style=\"text-align: right;\">\n      <th></th>\n      <th>holding_number</th>\n      <th>road_name_number</th>\n      <th>super_sub_area</th>\n      <th>sub_area</th>\n      <th>area</th>\n      <th>city</th>\n    </tr>\n  </thead>\n  <tbody>\n    <tr>\n      <th>0</th>\n      <td>463</td>\n      <td>Shamim Sarani</td>\n      <td>West Shewrapara</td>\n      <td>Shewrapara</td>\n      <td>Mirpur</td>\n      <td>Dhaka</td>\n    </tr>\n    <tr>\n      <th>1</th>\n      <td>477</td>\n      <td>Shamim Sarani</td>\n      <td>West Shewrapara</td>\n      <td>Shewrapara</td>\n      <td>Mirpur</td>\n      <td>Dhaka</td>\n    </tr>\n    <tr>\n      <th>2</th>\n      <td>477</td>\n      <td>Shamim Sarani</td>\n      <td>West Shewrapara</td>\n      <td>Shewrapara</td>\n      <td>Mirpur</td>\n      <td>Dhaka</td>\n    </tr>\n    <tr>\n      <th>3</th>\n      <td>474/2</td>\n      <td>Shamim Sarani</td>\n      <td>West Shewrapara</td>\n      <td>Shewrapara</td>\n      <td>Mirpur</td>\n      <td>Dhaka</td>\n    </tr>\n    <tr>\n      <th>4</th>\n      <td>475</td>\n      <td>Shamim Sarani</td>\n      <td>West Shewrapara</td>\n      <td>Shewrapara</td>\n      <td>Mirpur</td>\n      <td>Dhaka</td>\n    </tr>\n    <tr>\n      <th>5</th>\n      <td>476</td>\n      <td>Shamim Sarani</td>\n      <td>West Shewrapara</td>\n      <td>Shewrapara</td>\n      <td>Mirpur</td>\n      <td>Dhaka</td>\n    </tr>\n    <tr>\n      <th>6</th>\n      <td>477/2</td>\n      <td>Shamim Sarani</td>\n      <td>West Shewrapara</td>\n      <td>Shewrapara</td>\n      <td>Mirpur</td>\n      <td>Dhaka</td>\n    </tr>\n    <tr>\n      <th>7</th>\n      <td>476</td>\n      <td>Shamim Sarani</td>\n      <td>West Shewrapara</td>\n      <td>Shewrapara</td>\n      <td>Mirpur</td>\n      <td>Dhaka</td>\n    </tr>\n    <tr>\n      <th>8</th>\n      <td>469/1</td>\n      <td>Shamim Sarani</td>\n      <td>West Shewrapara</td>\n      <td>Shewrapara</td>\n      <td>Mirpur</td>\n      <td>Dhaka</td>\n    </tr>\n    <tr>\n      <th>9</th>\n      <td>476/2</td>\n      <td>Shamim Sarani</td>\n      <td>West Shewrapara</td>\n      <td>Shewrapara</td>\n      <td>Mirpur</td>\n      <td>Dhaka</td>\n    </tr>\n    <tr>\n      <th>10</th>\n      <td>463/A</td>\n      <td>Shamim Sarani</td>\n      <td>West Shewrapara</td>\n      <td>Shewrapara</td>\n      <td>Mirpur</td>\n      <td>Dhaka</td>\n    </tr>\n    <tr>\n      <th>11</th>\n      <td>476</td>\n      <td>Shamim Sarani</td>\n      <td>West Shewrapara</td>\n      <td>Shewrapara</td>\n      <td>Mirpur</td>\n      <td>Dhaka</td>\n    </tr>\n    <tr>\n      <th>12</th>\n      <td>474</td>\n      <td>Shamim Sarani</td>\n      <td>West Shewrapara</td>\n      <td>Shewrapara</td>\n      <td>Mirpur</td>\n      <td>Dhaka</td>\n    </tr>\n    <tr>\n      <th>13</th>\n      <td>473</td>\n      <td>Shamim Sarani</td>\n      <td>West Shewrapara</td>\n      <td>Shewrapara</td>\n      <td>Mirpur</td>\n      <td>Dhaka</td>\n    </tr>\n    <tr>\n      <th>14</th>\n      <td>473/1</td>\n      <td>Shamim Sarani</td>\n      <td>West Shewrapara</td>\n      <td>Shewrapara</td>\n      <td>Mirpur</td>\n      <td>Dhaka</td>\n    </tr>\n    <tr>\n      <th>15</th>\n      <td>463/1/1</td>\n      <td>Shamim Sarani</td>\n      <td>West Shewrapara</td>\n      <td>Shewrapara</td>\n      <td>Mirpur</td>\n      <td>Dhaka</td>\n    </tr>\n    <tr>\n      <th>16</th>\n      <td>463/1</td>\n      <td>Shamim Sarani</td>\n      <td>West Shewrapara</td>\n      <td>Shewrapara</td>\n      <td>Mirpur</td>\n      <td>Dhaka</td>\n    </tr>\n    <tr>\n      <th>17</th>\n      <td>469/1</td>\n      <td>Shamim Sarani</td>\n      <td>West Shewrapara</td>\n      <td>Shewrapara</td>\n      <td>Mirpur</td>\n      <td>Dhaka</td>\n    </tr>\n    <tr>\n      <th>18</th>\n      <td>463/1/1</td>\n      <td>Shamim Sarani</td>\n      <td>West Shewrapara</td>\n      <td>Shewrapara</td>\n      <td>Mirpur</td>\n      <td>Dhaka</td>\n    </tr>\n    <tr>\n      <th>19</th>\n      <td>470/2</td>\n      <td>NaN</td>\n      <td>West Shewrapara</td>\n      <td>Shewrapara</td>\n      <td>Mirpur</td>\n      <td>Dhaka</td>\n    </tr>\n    <tr>\n      <th>20</th>\n      <td>476</td>\n      <td>Shamim Sarani</td>\n      <td>West Shewrapara</td>\n      <td>Shewrapara</td>\n      <td>Mirpur</td>\n      <td>Dhaka</td>\n    </tr>\n    <tr>\n      <th>21</th>\n      <td>473/E</td>\n      <td>NaN</td>\n      <td>West Shewrapara</td>\n      <td>Shewrapara</td>\n      <td>Mirpur</td>\n      <td>Dhaka</td>\n    </tr>\n    <tr>\n      <th>22</th>\n      <td>471/A</td>\n      <td>Shamim Sarani</td>\n      <td>West Shewrapara</td>\n      <td>Shewrapara</td>\n      <td>Mirpur</td>\n      <td>Dhaka</td>\n    </tr>\n    <tr>\n      <th>23</th>\n      <td>473/D</td>\n      <td>NaN</td>\n      <td>West Shewrapara</td>\n      <td>Shewrapara</td>\n      <td>Mirpur</td>\n      <td>Dhaka</td>\n    </tr>\n    <tr>\n      <th>24</th>\n      <td>477</td>\n      <td>Shamim Sarani</td>\n      <td>West Shewrapara</td>\n      <td>Shewrapara</td>\n      <td>Mirpur</td>\n      <td>Dhaka</td>\n    </tr>\n    <tr>\n      <th>25</th>\n      <td>477/2</td>\n      <td>Shamim Sarani</td>\n      <td>West Shewrapara</td>\n      <td>Shewrapara</td>\n      <td>Mirpur</td>\n      <td>Dhaka</td>\n    </tr>\n    <tr>\n      <th>26</th>\n      <td>473/A</td>\n      <td>Shamim Sarani</td>\n      <td>West Shewrapara</td>\n      <td>Shewrapara</td>\n      <td>Mirpur</td>\n      <td>Dhaka</td>\n    </tr>\n    <tr>\n      <th>27</th>\n      <td>477/2</td>\n      <td>Shamim Sarani</td>\n      <td>West Shewrapara</td>\n      <td>Shewrapara</td>\n      <td>Mirpur</td>\n      <td>Dhaka</td>\n    </tr>\n    <tr>\n      <th>28</th>\n      <td>473/A</td>\n      <td>NaN</td>\n      <td>West Shewrapara</td>\n      <td>Shewrapara</td>\n      <td>Mirpur</td>\n      <td>Dhaka</td>\n    </tr>\n    <tr>\n      <th>29</th>\n      <td>476/2</td>\n      <td>Shamim Sarani</td>\n      <td>West Shewrapara</td>\n      <td>Shewrapara</td>\n      <td>Mirpur</td>\n      <td>Dhaka</td>\n    </tr>\n    <tr>\n      <th>30</th>\n      <td>471/A</td>\n      <td>Shamim Sarani</td>\n      <td>West Shewrapara</td>\n      <td>Shewrapara</td>\n      <td>Mirpur</td>\n      <td>Dhaka</td>\n    </tr>\n    <tr>\n      <th>31</th>\n      <td>476</td>\n      <td>Shamim Sarani</td>\n      <td>West Shewrapara</td>\n      <td>Shewrapara</td>\n      <td>Mirpur</td>\n      <td>Dhaka</td>\n    </tr>\n    <tr>\n      <th>32</th>\n      <td>476/2</td>\n      <td>Shamim Sarani</td>\n      <td>West Shewrapara</td>\n      <td>Shewrapara</td>\n      <td>Mirpur</td>\n      <td>Dhaka</td>\n    </tr>\n    <tr>\n      <th>33</th>\n      <td>460/3</td>\n      <td>Shamim Sarani</td>\n      <td>West Shewrapara</td>\n      <td>Shewrapara</td>\n      <td>Mirpur</td>\n      <td>Dhaka</td>\n    </tr>\n    <tr>\n      <th>34</th>\n      <td>342</td>\n      <td>NaN</td>\n      <td>West Shewrapara</td>\n      <td>Shewrapara</td>\n      <td>Mirpur</td>\n      <td>Dhaka</td>\n    </tr>\n    <tr>\n      <th>35</th>\n      <td>110/13</td>\n      <td>NaN</td>\n      <td>West Shewrapara</td>\n      <td>Shewrapara</td>\n      <td>Mirpur</td>\n      <td>Dhaka</td>\n    </tr>\n    <tr>\n      <th>36</th>\n      <td>113/6</td>\n      <td>NaN</td>\n      <td>West Shewrapara</td>\n      <td>Shewrapara</td>\n      <td>Mirpur</td>\n      <td>Dhaka</td>\n    </tr>\n    <tr>\n      <th>37</th>\n      <td>118/12</td>\n      <td>NaN</td>\n      <td>Ananda Bazar, West Shewrapara</td>\n      <td>Shewrapara</td>\n      <td>Mirpur</td>\n      <td>Dhaka</td>\n    </tr>\n    <tr>\n      <th>38</th>\n      <td>118/1</td>\n      <td>NaN</td>\n      <td>West Shewrapara</td>\n      <td>Shewrapara</td>\n      <td>Mirpur</td>\n      <td>Dhaka</td>\n    </tr>\n    <tr>\n      <th>39</th>\n      <td>694</td>\n      <td>NaN</td>\n      <td>West Shewrapara</td>\n      <td>Shewrapara</td>\n      <td>Mirpur</td>\n      <td>Dhaka</td>\n    </tr>\n  </tbody>\n</table>\n</div>"
          },
          "metadata": {}
        }
      ],
      "execution_count": 35
    },
    {
      "cell_type": "code",
      "source": "df.iloc[20:30]",
      "metadata": {
        "trusted": true
      },
      "outputs": [
        {
          "execution_count": 36,
          "output_type": "execute_result",
          "data": {
            "text/plain": "   holding_number road_name_number   super_sub_area    sub_area    area   city\n20            476    Shamim Sarani  West Shewrapara  Shewrapara  Mirpur  Dhaka\n21          473/E              NaN  West Shewrapara  Shewrapara  Mirpur  Dhaka\n22          471/A    Shamim Sarani  West Shewrapara  Shewrapara  Mirpur  Dhaka\n23          473/D              NaN  West Shewrapara  Shewrapara  Mirpur  Dhaka\n24            477    Shamim Sarani  West Shewrapara  Shewrapara  Mirpur  Dhaka\n25          477/2    Shamim Sarani  West Shewrapara  Shewrapara  Mirpur  Dhaka\n26          473/A    Shamim Sarani  West Shewrapara  Shewrapara  Mirpur  Dhaka\n27          477/2    Shamim Sarani  West Shewrapara  Shewrapara  Mirpur  Dhaka\n28          473/A              NaN  West Shewrapara  Shewrapara  Mirpur  Dhaka\n29          476/2    Shamim Sarani  West Shewrapara  Shewrapara  Mirpur  Dhaka",
            "text/html": "<div>\n<style scoped>\n    .dataframe tbody tr th:only-of-type {\n        vertical-align: middle;\n    }\n\n    .dataframe tbody tr th {\n        vertical-align: top;\n    }\n\n    .dataframe thead th {\n        text-align: right;\n    }\n</style>\n<table border=\"1\" class=\"dataframe\">\n  <thead>\n    <tr style=\"text-align: right;\">\n      <th></th>\n      <th>holding_number</th>\n      <th>road_name_number</th>\n      <th>super_sub_area</th>\n      <th>sub_area</th>\n      <th>area</th>\n      <th>city</th>\n    </tr>\n  </thead>\n  <tbody>\n    <tr>\n      <th>20</th>\n      <td>476</td>\n      <td>Shamim Sarani</td>\n      <td>West Shewrapara</td>\n      <td>Shewrapara</td>\n      <td>Mirpur</td>\n      <td>Dhaka</td>\n    </tr>\n    <tr>\n      <th>21</th>\n      <td>473/E</td>\n      <td>NaN</td>\n      <td>West Shewrapara</td>\n      <td>Shewrapara</td>\n      <td>Mirpur</td>\n      <td>Dhaka</td>\n    </tr>\n    <tr>\n      <th>22</th>\n      <td>471/A</td>\n      <td>Shamim Sarani</td>\n      <td>West Shewrapara</td>\n      <td>Shewrapara</td>\n      <td>Mirpur</td>\n      <td>Dhaka</td>\n    </tr>\n    <tr>\n      <th>23</th>\n      <td>473/D</td>\n      <td>NaN</td>\n      <td>West Shewrapara</td>\n      <td>Shewrapara</td>\n      <td>Mirpur</td>\n      <td>Dhaka</td>\n    </tr>\n    <tr>\n      <th>24</th>\n      <td>477</td>\n      <td>Shamim Sarani</td>\n      <td>West Shewrapara</td>\n      <td>Shewrapara</td>\n      <td>Mirpur</td>\n      <td>Dhaka</td>\n    </tr>\n    <tr>\n      <th>25</th>\n      <td>477/2</td>\n      <td>Shamim Sarani</td>\n      <td>West Shewrapara</td>\n      <td>Shewrapara</td>\n      <td>Mirpur</td>\n      <td>Dhaka</td>\n    </tr>\n    <tr>\n      <th>26</th>\n      <td>473/A</td>\n      <td>Shamim Sarani</td>\n      <td>West Shewrapara</td>\n      <td>Shewrapara</td>\n      <td>Mirpur</td>\n      <td>Dhaka</td>\n    </tr>\n    <tr>\n      <th>27</th>\n      <td>477/2</td>\n      <td>Shamim Sarani</td>\n      <td>West Shewrapara</td>\n      <td>Shewrapara</td>\n      <td>Mirpur</td>\n      <td>Dhaka</td>\n    </tr>\n    <tr>\n      <th>28</th>\n      <td>473/A</td>\n      <td>NaN</td>\n      <td>West Shewrapara</td>\n      <td>Shewrapara</td>\n      <td>Mirpur</td>\n      <td>Dhaka</td>\n    </tr>\n    <tr>\n      <th>29</th>\n      <td>476/2</td>\n      <td>Shamim Sarani</td>\n      <td>West Shewrapara</td>\n      <td>Shewrapara</td>\n      <td>Mirpur</td>\n      <td>Dhaka</td>\n    </tr>\n  </tbody>\n</table>\n</div>"
          },
          "metadata": {}
        }
      ],
      "execution_count": 36
    },
    {
      "cell_type": "code",
      "source": "num_rows = df.shape[0]",
      "metadata": {
        "trusted": true
      },
      "outputs": [],
      "execution_count": 37
    },
    {
      "cell_type": "code",
      "source": "num_rows",
      "metadata": {
        "trusted": true
      },
      "outputs": [
        {
          "execution_count": 38,
          "output_type": "execute_result",
          "data": {
            "text/plain": "4862"
          },
          "metadata": {}
        }
      ],
      "execution_count": 38
    },
    {
      "cell_type": "code",
      "source": "num_col = df.shape[1]",
      "metadata": {
        "trusted": true
      },
      "outputs": [],
      "execution_count": 39
    },
    {
      "cell_type": "code",
      "source": "num_col",
      "metadata": {
        "trusted": true
      },
      "outputs": [
        {
          "execution_count": 40,
          "output_type": "execute_result",
          "data": {
            "text/plain": "6"
          },
          "metadata": {}
        }
      ],
      "execution_count": 40
    },
    {
      "cell_type": "code",
      "source": "holding_numbers = df[\"holding_number\"]",
      "metadata": {
        "trusted": true
      },
      "outputs": [],
      "execution_count": 51
    },
    {
      "cell_type": "code",
      "source": "holding_numbers.head(30)",
      "metadata": {
        "trusted": true
      },
      "outputs": [
        {
          "execution_count": 52,
          "output_type": "execute_result",
          "data": {
            "text/plain": "0         463\n1         477\n2         477\n3       474/2\n4         475\n5         476\n6       477/2\n7         476\n8       469/1\n9       476/2\n10      463/A\n11        476\n12        474\n13        473\n14      473/1\n15    463/1/1\n16      463/1\n17      469/1\n18    463/1/1\n19      470/2\n20        476\n21      473/E\n22      471/A\n23      473/D\n24        477\n25      477/2\n26      473/A\n27      477/2\n28      473/A\n29      476/2\nName: holding_number, dtype: object"
          },
          "metadata": {}
        }
      ],
      "execution_count": 52
    },
    {
      "cell_type": "code",
      "source": "sorted_holding_numbers = holding_numbers.sort_values()",
      "metadata": {
        "trusted": true
      },
      "outputs": [],
      "execution_count": 53
    },
    {
      "cell_type": "code",
      "source": "sorted_holding_numbers",
      "metadata": {
        "trusted": true
      },
      "outputs": [
        {
          "execution_count": 54,
          "output_type": "execute_result",
          "data": {
            "text/plain": "2133    0441/1/1\n1319    0441/1/2\n1314    0441/1/5\n1320    0441/2/1\n1321    0441/2/2\n          ...   \n4608         NaN\n4609         NaN\n4610         NaN\n4630         NaN\n4631         NaN\nName: holding_number, Length: 4862, dtype: object"
          },
          "metadata": {}
        }
      ],
      "execution_count": 54
    },
    {
      "cell_type": "code",
      "source": "sorted_holding_numbers[0]",
      "metadata": {
        "trusted": true
      },
      "outputs": [
        {
          "execution_count": 61,
          "output_type": "execute_result",
          "data": {
            "text/plain": "'463'"
          },
          "metadata": {}
        }
      ],
      "execution_count": 61
    },
    {
      "cell_type": "markdown",
      "source": "### Minimum holding number",
      "metadata": {}
    },
    {
      "cell_type": "code",
      "source": "# min_holding_number = df[\"holding_number\"].min()\ndf[\"holding_number\"] = pd.to_numeric(df[\"holding_number\"], errors=\"coerce\")\n\nmin_holding_number = df[\"holding_number\"].min()",
      "metadata": {
        "trusted": true
      },
      "outputs": [],
      "execution_count": 57
    },
    {
      "cell_type": "code",
      "source": "min_holding_number",
      "metadata": {
        "trusted": true
      },
      "outputs": [
        {
          "execution_count": 58,
          "output_type": "execute_result",
          "data": {
            "text/plain": "4.0"
          },
          "metadata": {}
        }
      ],
      "execution_count": 58
    },
    {
      "cell_type": "code",
      "source": "exists = (df['holding_number'] == 4).any()\n\nif exists:\n    print(\"Value 4 exists\")\nelse:\n    print(\"Value 4 does not exist\")",
      "metadata": {
        "trusted": true
      },
      "outputs": [
        {
          "name": "stdout",
          "text": "Value 4 exists\n",
          "output_type": "stream"
        }
      ],
      "execution_count": 64
    },
    {
      "cell_type": "markdown",
      "source": "### Maximum holding number",
      "metadata": {}
    },
    {
      "cell_type": "code",
      "source": "max_holding_number = df['holding_number'].max()",
      "metadata": {
        "trusted": true
      },
      "outputs": [],
      "execution_count": 59
    },
    {
      "cell_type": "code",
      "source": "max_holding_number",
      "metadata": {
        "trusted": true
      },
      "outputs": [
        {
          "execution_count": 60,
          "output_type": "execute_result",
          "data": {
            "text/plain": "1407.0"
          },
          "metadata": {}
        }
      ],
      "execution_count": 60
    },
    {
      "cell_type": "code",
      "source": "exists = (df['holding_number'] == 1407).any()\n\nif exists:\n    print(\"Value 1407 exists\")\nelse:\n    print(\"Value 1407 does not exist\")",
      "metadata": {
        "trusted": true
      },
      "outputs": [
        {
          "name": "stdout",
          "text": "Value 1407 exists\n",
          "output_type": "stream"
        }
      ],
      "execution_count": 70
    },
    {
      "cell_type": "markdown",
      "source": "### Missing or Gap Value",
      "metadata": {}
    },
    {
      "cell_type": "code",
      "source": "\nexpected_sequence = range(min_holding_number, max_holding_number + 1)\n\nmissing_values = [f\"{i}/{j}\" for i, j in zip(expected_sequence[:-1], expected_sequence[1:]) if j not in df[\"holding_number\"].values]\n\nprint(\"Missing values or gaps in the sequence:\")\nprint(missing_values) ",
      "metadata": {
        "trusted": true
      },
      "outputs": [
        {
          "name": "stdout",
          "text": "Missing values or gaps in the sequence:\n['4/5', '8/9', '12/13', '15/16', '18/19', '19/20', '31/32', '32/33', '34/35', '36/37', '37/38', '38/39', '39/40', '41/42', '44/45', '46/47', '49/50', '50/51', '51/52', '54/55', '57/58', '60/61', '64/65', '71/72', '84/85', '85/86', '87/88', '90/91', '91/92', '99/100', '100/101', '101/102', '104/105', '114/115', '119/120', '121/122', '135/136', '136/137', '137/138', '138/139', '141/142', '142/143', '147/148', '159/160', '170/171', '174/175', '175/176', '182/183', '188/189', '191/192', '198/199', '200/201', '203/204', '223/224', '229/230', '235/236', '239/240', '248/249', '249/250', '250/251', '258/259', '259/260', '268/269', '275/276', '277/278', '283/284', '287/288', '289/290', '291/292', '296/297', '303/304', '308/309', '309/310', '310/311', '314/315', '343/344', '345/346', '346/347', '351/352', '353/354', '355/356', '356/357', '357/358', '358/359', '361/362', '362/363', '363/364', '366/367', '367/368', '368/369', '374/375', '375/376', '376/377', '378/379', '397/398', '403/404', '405/406', '406/407', '408/409', '410/411', '411/412', '414/415', '419/420', '422/423', '423/424', '432/433', '433/434', '435/436', '443/444', '445/446', '446/447', '448/449', '464/465', '471/472', '484/485', '485/486', '486/487', '493/494', '495/496', '497/498', '498/499', '520/521', '521/522', '526/527', '531/532', '532/533', '541/542', '542/543', '543/544', '544/545', '545/546', '547/548', '552/553', '553/554', '566/567', '569/570', '570/571', '578/579', '579/580', '581/582', '588/589', '593/594', '594/595', '596/597', '613/614', '614/615', '633/634', '634/635', '635/636', '638/639', '639/640', '646/647', '652/653', '653/654', '654/655', '655/656', '656/657', '670/671', '679/680', '681/682', '684/685', '686/687', '688/689', '689/690', '701/702', '707/708', '715/716', '716/717', '717/718', '719/720', '722/723', '723/724', '727/728', '728/729', '733/734', '735/736', '736/737', '737/738', '750/751', '755/756', '757/758', '758/759', '764/765', '770/771', '771/772', '772/773', '773/774', '774/775', '775/776', '776/777', '780/781', '785/786', '786/787', '788/789', '792/793', '799/800', '800/801', '801/802', '806/807', '812/813', '813/814', '814/815', '815/816', '817/818', '821/822', '822/823', '823/824', '824/825', '827/828', '828/829', '829/830', '830/831', '831/832', '832/833', '834/835', '835/836', '836/837', '837/838', '838/839', '839/840', '841/842', '844/845', '849/850', '850/851', '856/857', '857/858', '858/859', '860/861', '861/862', '862/863', '863/864', '864/865', '865/866', '866/867', '875/876', '876/877', '877/878', '878/879', '892/893', '902/903', '903/904', '913/914', '917/918', '919/920', '923/924', '924/925', '925/926', '926/927', '927/928', '935/936', '936/937', '949/950', '962/963', '965/966', '966/967', '967/968', '969/970', '972/973', '975/976', '990/991', '996/997', '997/998', '999/1000', '1000/1001', '1001/1002', '1002/1003', '1003/1004', '1010/1011', '1019/1020', '1020/1021', '1022/1023', '1024/1025', '1025/1026', '1027/1028', '1030/1031', '1031/1032', '1035/1036', '1040/1041', '1043/1044', '1044/1045', '1045/1046', '1046/1047', '1049/1050', '1050/1051', '1051/1052', '1053/1054', '1057/1058', '1060/1061', '1061/1062', '1064/1065', '1068/1069', '1069/1070', '1075/1076', '1084/1085', '1085/1086', '1089/1090', '1093/1094', '1096/1097', '1102/1103', '1103/1104', '1104/1105', '1109/1110', '1111/1112', '1113/1114', '1116/1117', '1119/1120', '1120/1121', '1122/1123', '1126/1127', '1128/1129', '1131/1132', '1132/1133', '1135/1136', '1136/1137', '1142/1143', '1150/1151', '1155/1156', '1156/1157', '1157/1158', '1159/1160', '1160/1161', '1161/1162', '1162/1163', '1164/1165', '1165/1166', '1166/1167', '1169/1170', '1170/1171', '1180/1181', '1182/1183', '1186/1187', '1188/1189', '1198/1199', '1199/1200', '1200/1201', '1201/1202', '1203/1204', '1205/1206', '1207/1208', '1208/1209', '1209/1210', '1210/1211', '1214/1215', '1215/1216', '1218/1219', '1221/1222', '1222/1223', '1227/1228', '1229/1230', '1230/1231', '1234/1235', '1236/1237', '1238/1239', '1241/1242', '1242/1243', '1243/1244', '1244/1245', '1245/1246', '1246/1247', '1247/1248', '1255/1256', '1263/1264', '1268/1269', '1269/1270', '1272/1273', '1281/1282', '1287/1288', '1288/1289', '1291/1292', '1292/1293', '1293/1294', '1295/1296', '1296/1297', '1299/1300', '1303/1304', '1304/1305', '1308/1309', '1309/1310', '1310/1311', '1314/1315', '1315/1316', '1316/1317', '1317/1318', '1318/1319', '1327/1328', '1329/1330', '1330/1331', '1335/1336', '1341/1342', '1343/1344', '1344/1345', '1346/1347', '1347/1348', '1351/1352', '1352/1353', '1353/1354', '1354/1355', '1358/1359', '1359/1360', '1369/1370', '1372/1373', '1377/1378', '1387/1388', '1388/1389', '1389/1390', '1390/1391', '1391/1392', '1392/1393', '1393/1394', '1396/1397', '1397/1398', '1398/1399', '1402/1403', '1404/1405']\n",
          "output_type": "stream"
        }
      ],
      "execution_count": 77
    },
    {
      "cell_type": "code",
      "source": "num_missing_values = len(missing_values)",
      "metadata": {
        "trusted": true
      },
      "outputs": [],
      "execution_count": 78
    },
    {
      "cell_type": "code",
      "source": "num_missing_values",
      "metadata": {
        "trusted": true
      },
      "outputs": [
        {
          "execution_count": 79,
          "output_type": "execute_result",
          "data": {
            "text/plain": "414"
          },
          "metadata": {}
        }
      ],
      "execution_count": 79
    },
    {
      "cell_type": "code",
      "source": "",
      "metadata": {
        "trusted": true
      },
      "outputs": [],
      "execution_count": null
    }
  ]
}